{
 "cells": [
  {
   "cell_type": "code",
   "execution_count": 23,
   "id": "initial_id",
   "metadata": {
    "collapsed": true,
    "ExecuteTime": {
     "end_time": "2024-03-03T18:53:00.514996Z",
     "start_time": "2024-03-03T18:53:00.430Z"
    }
   },
   "outputs": [
    {
     "name": "stdout",
     "output_type": "stream",
     "text": [
      "  (0, 26702)\t0.489380277133263\n",
      "  (0, 27034)\t0.41926285164054683\n",
      "  (0, 15778)\t0.4559248454595617\n",
      "  (0, 3613)\t0.5124051539348506\n",
      "  (0, 10838)\t0.33808149772042295\n",
      "  (1, 15403)\t0.6344013808050604\n",
      "  (1, 23762)\t0.6230025507858479\n",
      "  (1, 2338)\t0.4576054083453997\n",
      "  (2, 28912)\t0.6850346470481155\n",
      "  (2, 4996)\t0.4526987345115973\n",
      "  (2, 5959)\t0.45677526920928146\n",
      "  (2, 10148)\t0.3422685225872382\n",
      "  (3, 1996)\t0.32919800586836895\n",
      "  (3, 16936)\t0.3590345688782665\n",
      "  (3, 10155)\t0.532173517991191\n",
      "  (3, 22811)\t0.5627457356837965\n",
      "  (3, 1204)\t0.4035237725354838\n",
      "  (4, 4111)\t0.5839943760309615\n",
      "  (4, 4562)\t0.4164902592883401\n",
      "  (4, 16932)\t0.5803215107818112\n",
      "  (4, 27943)\t0.3856337340094297\n",
      "  (5, 23204)\t0.357997599617262\n",
      "  (5, 28740)\t0.33780168029528523\n",
      "  (5, 5499)\t0.5487735315367471\n",
      "  (5, 11562)\t0.6757035996223842\n",
      "  :\t:\n",
      "  (65222, 27943)\t0.2895500352692866\n",
      "  (65223, 13331)\t0.5561740983053443\n",
      "  (65223, 13321)\t0.44712217678425425\n",
      "  (65223, 4631)\t0.44071812544022715\n",
      "  (65223, 20626)\t0.2379855700800746\n",
      "  (65223, 28700)\t0.2524521429401745\n",
      "  (65223, 16932)\t0.3495602148465352\n",
      "  (65223, 27943)\t0.2322888405959687\n",
      "  (65224, 28582)\t0.6315041712527991\n",
      "  (65224, 18507)\t0.49196392384295295\n",
      "  (65224, 9810)\t0.38869748719990554\n",
      "  (65224, 28025)\t0.21732998827177952\n",
      "  (65224, 9334)\t0.23527588899680763\n",
      "  (65224, 20267)\t0.32480944417672\n",
      "  (65225, 22072)\t0.46362141027293247\n",
      "  (65225, 3663)\t0.5065510809715854\n",
      "  (65225, 28546)\t0.48239373385901446\n",
      "  (65225, 22014)\t0.37418864453632333\n",
      "  (65225, 6359)\t0.29425477317243454\n",
      "  (65225, 10438)\t0.2629723609087503\n",
      "  (65226, 5445)\t0.6204042074658036\n",
      "  (65226, 8802)\t0.48394767347951406\n",
      "  (65226, 27090)\t0.313204378972685\n",
      "  (65226, 25644)\t0.4116301422669808\n",
      "  (65226, 15284)\t0.33668518182731694\n"
     ]
    }
   ],
   "source": [
    "import ast\n",
    "import pickle\n",
    "import pandas as pd\n",
    "# Load the TF-IDF matrix from the file\n",
    "with open(\"fe_data/tfidf_title_filtered_15_score5.pkl\", \"rb\") as f:\n",
    "    x_title = pickle.load(f)\n",
    "    \n",
    "with open(\"fe_data/tfidf_body_filtered_15_score5.pkl\", \"rb\") as f:\n",
    "    x_body = pickle.load(f)\n",
    "    \n",
    "print(x_title)\n"
   ]
  },
  {
   "cell_type": "code",
   "outputs": [],
   "source": [
    "from sklearn.preprocessing import MultiLabelBinarizer\n",
    "from scipy.sparse import hstack\n",
    "from sklearn.model_selection import train_test_split\n",
    "\n",
    "\n",
    "df = pd.read_csv(\"data/clean_data_filtered_15_score5_tokenized.csv\")\n",
    "df['tag'] = df['tag'].apply(ast.literal_eval)\n",
    "\n",
    "\n",
    "\n",
    "\n",
    "X = hstack([x_title, x_body])\n",
    "y = df['tag']\n",
    "\n",
    "\n",
    "multi_label_binarizer = MultiLabelBinarizer()\n",
    "y = multi_label_binarizer.fit_transform(y)\n",
    "X_train, X_test, y_train, y_test = train_test_split(X, y, test_size=0.2, random_state = 0)\n",
    "#X_train, X_valid, y_train, y_valid = train_test_split(X_train, y_train, test_size=0.25, random_state=0)\n",
    "\n",
    "y_classes = multi_label_binarizer.classes_"
   ],
   "metadata": {
    "collapsed": false,
    "ExecuteTime": {
     "end_time": "2024-03-03T18:36:47.378595Z",
     "start_time": "2024-03-03T18:36:42.832967Z"
    }
   },
   "id": "f98e9a9f425d4427",
   "execution_count": 18
  },
  {
   "cell_type": "markdown",
   "source": [
    "### Metrics\n",
    "- **Precision**: Precision is the ratio of true positive predictions to the total number of positive predictions made by the classifier. It measures the accuracy of positive predictions. A high precision indicates that the classifier has a low false positive rate.\n",
    "\n",
    "- **Recall**: Recall, also known as sensitivity or true positive rate, is the ratio of true positive predictions to the total number of actual positives in the dataset. It measures the ability of the classifier to correctly identify all positive instances. A high recall indicates that the classifier has a low false negative rate.\n",
    "\n",
    "- **F-score**: The F-score, or F1 score, is the harmonic mean of precision and recall. It provides a single score that balances both precision and recall. The F1 score reaches its best value at 1 and worst at 0.\n",
    "\n",
    "- **Support**: Support is the number of actual occurrences of each class in the specified dataset. It represents the number of true instances for each class in the dataset.\n",
    "\n",
    "- **Hamming Loss**: Hamming loss is the fraction of labels that are incorrectly predicted. It computes the fraction of labels that are incorrectly predicted, i.e., the fraction of the wrong labels to the total number of labels.\n",
    "\n",
    "- **Jaccard Score**: The Jaccard score, also known as the Jaccard similarity coefficient, measures the similarity between two sets by comparing their intersection with their union. In the context of multi-label classification, it calculates the similarity between the predicted labels and the true labels. It ranges from 0 to 1, where 1 indicates perfect overlap between the predicted and true labels."
   ],
   "metadata": {
    "collapsed": false
   },
   "id": "44f1c1821a9cdadd"
  },
  {
   "cell_type": "code",
   "outputs": [],
   "source": [
    "from sklearn.multiclass import OneVsRestClassifier\n",
    "from sklearn.linear_model import SGDClassifier\n",
    "from sklearn.metrics import hamming_loss\n",
    "from sklearn.svm import LinearSVC\n",
    "from sklearn.metrics import accuracy_score, jaccard_score\n",
    "from sklearn.metrics import precision_recall_fscore_support as score\n",
    "\n",
    "\n",
    "    \n",
    "\n",
    "# Prints Accuracy, Hamming loss and Jaccard score:\n",
    "def evaluate_model(y_test, y_pred, model_name):\n",
    "    hamming = []\n",
    "    precision, recall, fscore, support = score(y_test, y_pred)\n",
    "    \n",
    "\n",
    "    for i, (test, pred) in enumerate(zip(y_test.T, y_pred.T)):\n",
    "        hamming.append(hamming_loss(test, pred))\n",
    "    \n",
    "    acc = accuracy_score(y_test, y_pred)\n",
    "    jacc_sc = jaccard_score(y_test, y_pred, average='weighted')\n",
    "    hamming_ls = hamming_loss(y_test,y_pred)\n",
    "    \n",
    "    print(f\"Hamming Loss: {hamming_ls:.4f}\")\n",
    "    print(\"Accuracy: \", acc)\n",
    "    print(\"Classifier Used:\", str(model_name))\n",
    "    print(f'Jaccard Score: {jacc_sc:.4f}')\n",
    "    print(\"\\n\")\n",
    "    \n",
    "    metric_df = pd.DataFrame(data=[precision, recall, fscore, hamming,support],\n",
    "                         index=[\"Precision\", \"Recall\", \"F-1 score\", \"Hamming loss\",\"True Count\"],\n",
    "                         columns=y_classes)\n",
    "    metric_df.to_csv(\"models/models_results/\"+str(model_name)+\"_metrics.xlsx\")\n",
    "    \n",
    "    #top_ten_tags = [\"javascript\", \"java\", \"c#\", \"php\", \"android\", \"jquery\", \"python\", \"html\", \"c++\", \"ios\",\"mysql\",\"css\",\"sql\",\"asp.net\",\"objective-c\"]\n",
    "    print(metric_df)\n",
    "\n",
    "\n"
   ],
   "metadata": {
    "collapsed": false,
    "ExecuteTime": {
     "end_time": "2024-03-03T18:38:34.601435Z",
     "start_time": "2024-03-03T18:38:34.582429Z"
    }
   },
   "id": "acefec5a304949ed",
   "execution_count": 21
  },
  {
   "cell_type": "code",
   "outputs": [
    {
     "name": "stdout",
     "output_type": "stream",
     "text": [
      "Hamming Loss: 0.0402\n",
      "Accuracy:  0.5206156611616672\n",
      "Classifier Used: SGDClassifier(n_jobs=-1)\n",
      "Jaccard Score: 0.5248\n",
      "\n",
      "\n",
      "                    .net     android           c           c#         c++  \\\n",
      "Precision       0.794393    0.980867    0.815534     0.833333    0.920732   \n",
      "Recall          0.163148    0.786299    0.249258     0.497495    0.520092   \n",
      "F-1 score       0.270701    0.872872    0.381818     0.623039    0.664710   \n",
      "Hamming loss    0.051455    0.025166    0.030558     0.094484    0.051343   \n",
      "True Count    521.000000  978.000000  337.000000  1397.000000  871.000000   \n",
      "\n",
      "                     css        html         ios      iphone         java  \\\n",
      "Precision       0.936090    0.724138    0.809969    0.890000     0.961411   \n",
      "Recall          0.656992    0.311881    0.488722    0.253561     0.638828   \n",
      "F-1 score       0.772093    0.435986    0.609613    0.394678     0.767606   \n",
      "Hamming loss    0.016515    0.036625    0.037412    0.030671     0.059319   \n",
      "True Count    379.000000  404.000000  532.000000  351.000000  1365.000000   \n",
      "\n",
      "               javascript      jquery  objective-c         php      python  \n",
      "Precision        0.903311    0.943820     0.797468    0.960648    0.978541  \n",
      "Recall           0.617195    0.583333     0.174033    0.680328    0.765101  \n",
      "F-1 score        0.733333    0.721030     0.285714    0.796545    0.858757  \n",
      "Hamming loss     0.055724    0.029210     0.035389    0.023818    0.025278  \n",
      "True Count    1105.000000  576.000000   362.000000  610.000000  894.000000  \n"
     ]
    },
    {
     "name": "stderr",
     "output_type": "stream",
     "text": [
      "C:\\Users\\yvariozidis\\PycharmProjects\\Stack Auto Tagger\\.venv\\lib\\site-packages\\sklearn\\svm\\_classes.py:31: FutureWarning: The default value of `dual` will change from `True` to `'auto'` in 1.5. Set the value of `dual` explicitly to suppress the warning.\n",
      "  warnings.warn(\n",
      "C:\\Users\\yvariozidis\\PycharmProjects\\Stack Auto Tagger\\.venv\\lib\\site-packages\\sklearn\\svm\\_classes.py:31: FutureWarning: The default value of `dual` will change from `True` to `'auto'` in 1.5. Set the value of `dual` explicitly to suppress the warning.\n",
      "  warnings.warn(\n",
      "C:\\Users\\yvariozidis\\PycharmProjects\\Stack Auto Tagger\\.venv\\lib\\site-packages\\sklearn\\svm\\_classes.py:31: FutureWarning: The default value of `dual` will change from `True` to `'auto'` in 1.5. Set the value of `dual` explicitly to suppress the warning.\n",
      "  warnings.warn(\n",
      "C:\\Users\\yvariozidis\\PycharmProjects\\Stack Auto Tagger\\.venv\\lib\\site-packages\\sklearn\\svm\\_classes.py:31: FutureWarning: The default value of `dual` will change from `True` to `'auto'` in 1.5. Set the value of `dual` explicitly to suppress the warning.\n",
      "  warnings.warn(\n",
      "C:\\Users\\yvariozidis\\PycharmProjects\\Stack Auto Tagger\\.venv\\lib\\site-packages\\sklearn\\svm\\_classes.py:31: FutureWarning: The default value of `dual` will change from `True` to `'auto'` in 1.5. Set the value of `dual` explicitly to suppress the warning.\n",
      "  warnings.warn(\n",
      "C:\\Users\\yvariozidis\\PycharmProjects\\Stack Auto Tagger\\.venv\\lib\\site-packages\\sklearn\\svm\\_classes.py:31: FutureWarning: The default value of `dual` will change from `True` to `'auto'` in 1.5. Set the value of `dual` explicitly to suppress the warning.\n",
      "  warnings.warn(\n",
      "C:\\Users\\yvariozidis\\PycharmProjects\\Stack Auto Tagger\\.venv\\lib\\site-packages\\sklearn\\svm\\_classes.py:31: FutureWarning: The default value of `dual` will change from `True` to `'auto'` in 1.5. Set the value of `dual` explicitly to suppress the warning.\n",
      "  warnings.warn(\n",
      "C:\\Users\\yvariozidis\\PycharmProjects\\Stack Auto Tagger\\.venv\\lib\\site-packages\\sklearn\\svm\\_classes.py:31: FutureWarning: The default value of `dual` will change from `True` to `'auto'` in 1.5. Set the value of `dual` explicitly to suppress the warning.\n",
      "  warnings.warn(\n",
      "C:\\Users\\yvariozidis\\PycharmProjects\\Stack Auto Tagger\\.venv\\lib\\site-packages\\sklearn\\svm\\_classes.py:31: FutureWarning: The default value of `dual` will change from `True` to `'auto'` in 1.5. Set the value of `dual` explicitly to suppress the warning.\n",
      "  warnings.warn(\n",
      "C:\\Users\\yvariozidis\\PycharmProjects\\Stack Auto Tagger\\.venv\\lib\\site-packages\\sklearn\\svm\\_classes.py:31: FutureWarning: The default value of `dual` will change from `True` to `'auto'` in 1.5. Set the value of `dual` explicitly to suppress the warning.\n",
      "  warnings.warn(\n",
      "C:\\Users\\yvariozidis\\PycharmProjects\\Stack Auto Tagger\\.venv\\lib\\site-packages\\sklearn\\svm\\_classes.py:31: FutureWarning: The default value of `dual` will change from `True` to `'auto'` in 1.5. Set the value of `dual` explicitly to suppress the warning.\n",
      "  warnings.warn(\n",
      "C:\\Users\\yvariozidis\\PycharmProjects\\Stack Auto Tagger\\.venv\\lib\\site-packages\\sklearn\\svm\\_classes.py:31: FutureWarning: The default value of `dual` will change from `True` to `'auto'` in 1.5. Set the value of `dual` explicitly to suppress the warning.\n",
      "  warnings.warn(\n",
      "C:\\Users\\yvariozidis\\PycharmProjects\\Stack Auto Tagger\\.venv\\lib\\site-packages\\sklearn\\svm\\_classes.py:31: FutureWarning: The default value of `dual` will change from `True` to `'auto'` in 1.5. Set the value of `dual` explicitly to suppress the warning.\n",
      "  warnings.warn(\n",
      "C:\\Users\\yvariozidis\\PycharmProjects\\Stack Auto Tagger\\.venv\\lib\\site-packages\\sklearn\\svm\\_classes.py:31: FutureWarning: The default value of `dual` will change from `True` to `'auto'` in 1.5. Set the value of `dual` explicitly to suppress the warning.\n",
      "  warnings.warn(\n",
      "C:\\Users\\yvariozidis\\PycharmProjects\\Stack Auto Tagger\\.venv\\lib\\site-packages\\sklearn\\svm\\_classes.py:31: FutureWarning: The default value of `dual` will change from `True` to `'auto'` in 1.5. Set the value of `dual` explicitly to suppress the warning.\n",
      "  warnings.warn(\n"
     ]
    },
    {
     "name": "stdout",
     "output_type": "stream",
     "text": [
      "Hamming Loss: 0.0376\n",
      "Accuracy:  0.5681384114144478\n",
      "Classifier Used: LinearSVC()\n",
      "Jaccard Score: 0.5856\n",
      "\n",
      "\n",
      "                    .net     android           c           c#         c++  \\\n",
      "Precision       0.541833    0.975177    0.684492     0.798719    0.831563   \n",
      "Recall          0.261036    0.843558    0.379822     0.624911    0.629162   \n",
      "F-1 score       0.352332    0.904605    0.488550     0.701205    0.716340   \n",
      "Hamming loss    0.056173    0.019548    0.030109     0.083586    0.048759   \n",
      "True Count    521.000000  978.000000  337.000000  1397.000000  871.000000   \n",
      "\n",
      "                     css        html         ios      iphone         java  \\\n",
      "Precision       0.887789    0.607287    0.761421    0.680851     0.934866   \n",
      "Recall          0.709763    0.371287    0.563910    0.364672     0.715018   \n",
      "F-1 score       0.788856    0.460829    0.647948    0.474954     0.810295   \n",
      "Hamming loss    0.016178    0.039434    0.036625    0.031794     0.051343   \n",
      "True Count    379.000000  404.000000  532.000000  351.000000  1365.000000   \n",
      "\n",
      "               javascript      jquery  objective-c         php      python  \n",
      "Precision        0.869274    0.889145     0.637306    0.951579    0.980132  \n",
      "Recall           0.704072    0.668403     0.339779    0.740984    0.827740  \n",
      "F-1 score        0.778000    0.763132     0.443243    0.833180    0.897514  \n",
      "Hamming loss     0.049882    0.026851     0.034715    0.020335    0.018987  \n",
      "True Count    1105.000000  576.000000   362.000000  610.000000  894.000000  \n"
     ]
    }
   ],
   "source": [
    "\n",
    "sgd = SGDClassifier(n_jobs=-1)\n",
    "svc = LinearSVC()\n",
    "\n",
    "for classifier in [sgd,svc]:\n",
    "    #top_ten_tags = [\"javascript\", \"java\", \"c#\", \"php\", \"android\", \"jquery\", \"python\", \"html\", \"c++\", \"ios\",\"mysql\",\"css\",\"sql\",\"asp.net\",\"objective-c\"]\n",
    "\n",
    "    clf = OneVsRestClassifier(classifier)\n",
    "    clf.fit(X_train, y_train)\n",
    "    y_pred = clf.predict(X_test)\n",
    "    metric_df = evaluate_model(y_test, y_pred, classifier)"
   ],
   "metadata": {
    "collapsed": false,
    "ExecuteTime": {
     "end_time": "2024-03-03T18:38:47.313745Z",
     "start_time": "2024-03-03T18:38:36.884722Z"
    }
   },
   "id": "a4e74e28e397d115",
   "execution_count": 22
  }
 ],
 "metadata": {
  "kernelspec": {
   "display_name": "Python 3",
   "language": "python",
   "name": "python3"
  },
  "language_info": {
   "codemirror_mode": {
    "name": "ipython",
    "version": 2
   },
   "file_extension": ".py",
   "mimetype": "text/x-python",
   "name": "python",
   "nbconvert_exporter": "python",
   "pygments_lexer": "ipython2",
   "version": "2.7.6"
  }
 },
 "nbformat": 4,
 "nbformat_minor": 5
}
